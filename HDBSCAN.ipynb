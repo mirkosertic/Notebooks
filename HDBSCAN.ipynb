{
 "cells": [
  {
   "cell_type": "code",
   "execution_count": 1,
   "metadata": {},
   "outputs": [],
   "source": [
    "import hdbscan\n",
    "import pandas as pd\n",
    "from plotnine import *\n",
    "from plotnine.data import *\n",
    "from sklearn import preprocessing\n",
    "from sklearn.decomposition import PCA\n",
    "from sklearn.decomposition import TruncatedSVD\n",
    "from sklearn.manifold import TSNE"
   ]
  },
  {
   "cell_type": "code",
   "execution_count": 2,
   "metadata": {},
   "outputs": [],
   "source": [
    "customers = pd.read_csv(open('kunden.csv'), usecols=[0,2,3,5], names=['mandant', 'anrede','plz','landisocode'])\n",
    "customers.plz = customers.plz.str.slice(0, 2)\n",
    "\n",
    "customers = pd.concat([customers,pd.get_dummies(customers['mandant'], prefix='mandant')],axis=1)\n",
    "customers = pd.concat([customers,pd.get_dummies(customers['anrede'], prefix='anrede')],axis=1)\n",
    "customers = pd.concat([customers,pd.get_dummies(customers['plz'], prefix='plz')],axis=1)\n",
    "customers = pd.concat([customers,pd.get_dummies(customers['landisocode'], prefix='landisocode')],axis=1)\n",
    "\n",
    "customers.drop(['mandant'],axis=1, inplace=True)\n",
    "customers.drop(['anrede'],axis=1, inplace=True)\n",
    "customers.drop(['plz'],axis=1, inplace=True)\n",
    "customers.drop(['landisocode'],axis=1, inplace=True)\n",
    "\n",
    "customers = customers.sample(25000)"
   ]
  },
  {
   "cell_type": "code",
   "execution_count": null,
   "metadata": {},
   "outputs": [
    {
     "name": "stderr",
     "output_type": "stream",
     "text": [
      "/usr/local/lib64/python3.7/site-packages/sklearn/externals/joblib/parallel.py:268: DeprecationWarning: check_pickle is deprecated in joblib 0.12 and will be removed in 0.13\n",
      "  ' removed in 0.13', DeprecationWarning)\n",
      "/usr/local/lib64/python3.7/site-packages/sklearn/externals/joblib/parallel.py:268: DeprecationWarning: check_pickle is deprecated in joblib 0.12 and will be removed in 0.13\n",
      "  ' removed in 0.13', DeprecationWarning)\n",
      "/usr/local/lib64/python3.7/site-packages/sklearn/externals/joblib/parallel.py:268: DeprecationWarning: check_pickle is deprecated in joblib 0.12 and will be removed in 0.13\n",
      "  ' removed in 0.13', DeprecationWarning)\n",
      "/usr/local/lib64/python3.7/site-packages/sklearn/externals/joblib/parallel.py:268: DeprecationWarning: check_pickle is deprecated in joblib 0.12 and will be removed in 0.13\n",
      "  ' removed in 0.13', DeprecationWarning)\n"
     ]
    }
   ],
   "source": [
    "pcaclusterer = hdbscan.HDBSCAN(algorithm='boruvka_kdtree', core_dist_n_jobs=6, alpha=1.0, approx_min_span_tree=True,\n",
    "                               gen_min_span_tree=False, leaf_size=40,\n",
    "                               metric='euclidean', min_cluster_size=120, min_samples=1, p=None)\n",
    "pcaclusterer.fit(customers)\n"
   ]
  },
  {
   "cell_type": "code",
   "execution_count": null,
   "metadata": {},
   "outputs": [],
   "source": [
    "print(\"Anzahl der gefundenen Cluster: {}\".format(pcaclusterer.labels_.max()))"
   ]
  },
  {
   "cell_type": "code",
   "execution_count": null,
   "metadata": {},
   "outputs": [],
   "source": [
    "customers['cluster'] = pcaclusterer.labels_.astype(str)\n",
    "customers.to_csv('kunden_clustrerassignment.csv')"
   ]
  },
  {
   "cell_type": "code",
   "execution_count": null,
   "metadata": {},
   "outputs": [],
   "source": [
    "tsne = TSNE(n_components=2, verbose=1, perplexity=40, n_iter=300)\n",
    "tsne_results = tsne.fit_transform(customers)\n",
    "\n",
    "customers['x-tsne'] = tsne_results[:,0]\n",
    "customers['y-tsne'] = tsne_results[:,1]\n",
    "\n",
    "print(ggplot(aes(x='x-tsne', y='y-tsne', color=\"cluster\"), data=customers) + labs(title = 'Cluster visualization') + geom_point(size=1,alpha=0.3))"
   ]
  },
  {
   "cell_type": "code",
   "execution_count": null,
   "metadata": {},
   "outputs": [],
   "source": []
  }
 ],
 "metadata": {
  "kernelspec": {
   "display_name": "Python 3",
   "language": "python",
   "name": "python3"
  },
  "language_info": {
   "codemirror_mode": {
    "name": "ipython",
    "version": 3
   },
   "file_extension": ".py",
   "mimetype": "text/x-python",
   "name": "python",
   "nbconvert_exporter": "python",
   "pygments_lexer": "ipython3",
   "version": "3.7.2"
  }
 },
 "nbformat": 4,
 "nbformat_minor": 2
}
