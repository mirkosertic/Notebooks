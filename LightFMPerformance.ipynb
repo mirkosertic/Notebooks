{
 "cells": [
  {
   "cell_type": "markdown",
   "metadata": {},
   "source": [
    "Python imports"
   ]
  },
  {
   "cell_type": "code",
   "execution_count": null,
   "metadata": {},
   "outputs": [],
   "source": [
    "import implicit\n",
    "import pandas as pd\n",
    "from scipy import sparse\n",
    "import numpy\n",
    "from lightfm import LightFM\n",
    "from lightfm.data import Dataset\n",
    "from lightfm.evaluation import precision_at_k\n",
    "from lightfm.evaluation import auc_score\n",
    "from lightfm.cross_validation import random_train_test_split\n",
    "from sklearn.externals import joblib\n",
    "import operator"
   ]
  },
  {
   "cell_type": "markdown",
   "metadata": {},
   "source": [
    "Loading product data"
   ]
  },
  {
   "cell_type": "code",
   "execution_count": null,
   "metadata": {},
   "outputs": [],
   "source": [
    "%time productdf = pd.read_csv('artikel_export.csv')\n",
    "productdf = productdf[productdf.mandant==2]\n",
    "productdf.head()"
   ]
  },
  {
   "cell_type": "markdown",
   "metadata": {},
   "source": [
    "Read CSV File. It has a header with customerid,productid,amount"
   ]
  },
  {
   "cell_type": "code",
   "execution_count": null,
   "metadata": {},
   "outputs": [],
   "source": [
    "%time df = pd.read_csv('orders.csv', usecols = ['customerid','productid'], dtype = {'customerid':str, 'productid':str})\n",
    "df.head()"
   ]
  },
  {
   "cell_type": "markdown",
   "metadata": {},
   "source": [
    "Create a new LightFM Dataset containing the customer and product interactions"
   ]
  },
  {
   "cell_type": "code",
   "execution_count": null,
   "metadata": {
    "scrolled": true
   },
   "outputs": [],
   "source": [
    "uniqueCustomer = df['customerid'].unique()\n",
    "uniqueProducts = productdf['artikel_id'].unique()\n",
    "\n",
    "dataset = Dataset()\n",
    "%time dataset.fit(uniqueCustomer,uniqueProducts)\n",
    "%time dataset.fit_partial(items = df['productid'].unique(), item_features = ['i_spannung_nervenkitzel','i_liebe_romantik','i_fantasy_sciencefiction','i_fremdsprachiges_anderelaender','i_reiseinvergangenezeiten','i_wissensdurst','i_schoenegeschichten','i_haus_garten','i_hobby_freizeit','i_humorvolles','i_spiel_spass','ag_bis12monate', 'ag_bis12monate', 'ag_1bis3','ag_4bis7','ag_8bis11','ag_ab12'])\n",
    "\n",
    "def toitemfeatures(row):\n",
    "    result = []\n",
    "    if (row.i_spannung_nervenkitzel != 'f'):\n",
    "        result.append('i_spannung_nervenkitzel')\n",
    "    if (row.i_liebe_romantik != 'f'):\n",
    "        result.append('i_liebe_romantik')\n",
    "    if (row.i_fantasy_sciencefiction != 'f'):\n",
    "        result.append('i_fantasy_sciencefiction')\n",
    "    if (row.i_fremdsprachiges_anderelaender != 'f'):        \n",
    "        result.append('i_fremdsprachiges_anderelaender')\n",
    "    if (row.i_reiseinvergangenezeiten != 'f'):        \n",
    "        result.append('i_reiseinvergangenezeiten')\n",
    "    if (row.i_wissensdurst != 'f'):        \n",
    "        result.append('i_wissensdurst')\n",
    "    if (row.i_schoenegeschichten != 'f'):        \n",
    "        result.append('i_schoenegeschichten')\n",
    "    if (row.i_haus_garten != 'f'):        \n",
    "        result.append('i_haus_garten')\n",
    "    if (row.i_hobby_freizeit != 'f'):        \n",
    "        result.append('i_hobby_freizeit')\n",
    "    if (row.i_humorvolles != 'f'):        \n",
    "        result.append('i_humorvolles')\n",
    "    if (row.i_spiel_spass != 'f'):        \n",
    "        result.append('i_spiel_spass')\n",
    "    return result\n",
    "\n",
    "%time item_features = dataset.build_item_features((row.artikel_id, toitemfeatures(row)) for index, row in productdf.iterrows())\n",
    "\n",
    "%time (interactions, weights) = dataset.build_interactions((row.customerid, row.productid) for index, row in df.iterrows())\n",
    "\n",
    "print(repr(interactions))\n",
    "    \n",
    "print('Total number of unique customers         : %.0f' % len(uniqueCustomer))\n",
    "print('Total number of unique products overall  : %.0f' % len(uniqueProducts))\n",
    "print('Total number of unique products orders   : %.0f' % len(df['productid'].unique()))\n"
   ]
  },
  {
   "cell_type": "markdown",
   "metadata": {},
   "source": [
    "Creating train and test split model"
   ]
  },
  {
   "cell_type": "code",
   "execution_count": null,
   "metadata": {},
   "outputs": [],
   "source": [
    "(train,test) = random_train_test_split(interactions, test_percentage=0.2)"
   ]
  },
  {
   "cell_type": "markdown",
   "metadata": {},
   "source": [
    "Train the Implicit model"
   ]
  },
  {
   "cell_type": "code",
   "execution_count": null,
   "metadata": {
    "scrolled": true
   },
   "outputs": [],
   "source": [
    "print('Training Implicit model')\n",
    "implicitmodel = implicit.als.AlternatingLeastSquares(factors=32,use_gpu=False,num_threads=0,use_native=True)\n",
    "%time implicitmodel.fit(train)"
   ]
  },
  {
   "cell_type": "markdown",
   "metadata": {},
   "source": [
    "Train the LightFM model"
   ]
  },
  {
   "cell_type": "code",
   "execution_count": null,
   "metadata": {},
   "outputs": [],
   "source": [
    "print('Training LightFM model')\n",
    "model = LightFM(loss='warp', no_components=32)\n",
    "%time model.fit(train, item_features=item_features, epochs=100, num_threads=8)"
   ]
  },
  {
   "cell_type": "code",
   "execution_count": null,
   "metadata": {},
   "outputs": [],
   "source": [
    "joblib.dump(model, 'lightfmmodel.sav')\n",
    "print('Model saved');"
   ]
  },
  {
   "cell_type": "markdown",
   "metadata": {},
   "source": [
    "Evaluate the model"
   ]
  },
  {
   "cell_type": "code",
   "execution_count": null,
   "metadata": {},
   "outputs": [],
   "source": [
    "print('Evaluating model')\n",
    "\n",
    "aucscore = auc_score(model, interactions, num_threads=6, item_features=item_features).mean()\n",
    "print('AUC Score:          %.2f.' % (aucscore))\n",
    "\n",
    "aucscore_train = auc_score(model, train, num_threads=6, item_features=item_features).mean()\n",
    "print('AUC Score train:    %.2f.' % (aucscore_train))\n",
    "\n",
    "train_precision = precision_at_k(model, train, k=5, num_threads=6, item_features=item_features).mean()\n",
    "test_precision = precision_at_k(model, test, k=5, num_threads=6,item_features=item_features).mean()\n",
    "print('Precision@k5: train %.2f.' % (train_precision))\n",
    "print('Precision@k5: test  %.2f.' % (test_precision))"
   ]
  },
  {
   "cell_type": "markdown",
   "metadata": {},
   "source": [
    "Sample predictions"
   ]
  },
  {
   "cell_type": "code",
   "execution_count": null,
   "metadata": {},
   "outputs": [],
   "source": [
    "def sample_recommendation(model, data, user_ids):\n",
    "\n",
    "    user2idx, unused1, item2idx, unused2 = dataset.mapping()\n",
    "    \n",
    "    item2idx_inv = dict(map(reversed, item2idx.items()))    \n",
    "\n",
    "    n_users, n_items = data.shape\n",
    "\n",
    "    for user_id in user_ids:\n",
    "        \n",
    "        print('Recommentations for user %s' % user_id)\n",
    "        \n",
    "        scores = model.predict(user2idx[user_id], numpy.arange(n_items))\n",
    "        \n",
    "        comp = []\n",
    "        \n",
    "        for i in range(n_items):\n",
    "            itemid = item2idx_inv[i]\n",
    "            score = scores[i]\n",
    "            comp.append((itemid,score))\n",
    "        \n",
    "        comp.sort(key = operator.itemgetter(1), reverse = True)    \n",
    "        \n",
    "        for i in range(10):\n",
    "            (itemid,score) = comp[i]\n",
    "            print('%s\\t%2f' % (itemid, score))\n",
    "    \n",
    "sample_recommendation(model, interactions, ['31460292'])"
   ]
  },
  {
   "cell_type": "code",
   "execution_count": null,
   "metadata": {},
   "outputs": [],
   "source": []
  }
 ],
 "metadata": {
  "kernelspec": {
   "display_name": "Python 3",
   "language": "python",
   "name": "python3"
  },
  "language_info": {
   "codemirror_mode": {
    "name": "ipython",
    "version": 3
   },
   "file_extension": ".py",
   "mimetype": "text/x-python",
   "name": "python",
   "nbconvert_exporter": "python",
   "pygments_lexer": "ipython3",
   "version": "3.7.2"
  }
 },
 "nbformat": 4,
 "nbformat_minor": 2
}
