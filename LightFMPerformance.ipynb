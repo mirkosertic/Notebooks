{
 "cells": [
  {
   "cell_type": "markdown",
   "metadata": {},
   "source": [
    "Python imports"
   ]
  },
  {
   "cell_type": "code",
   "execution_count": 1,
   "metadata": {},
   "outputs": [],
   "source": [
    "import pandas as pd\n",
    "from scipy import sparse\n",
    "import numpy\n",
    "from lightfm import LightFM\n",
    "from lightfm.data import Dataset\n",
    "from lightfm.evaluation import precision_at_k\n",
    "from lightfm.evaluation import auc_score\n",
    "from lightfm.cross_validation import random_train_test_split\n",
    "from sklearn.externals import joblib\n",
    "import operator"
   ]
  },
  {
   "cell_type": "markdown",
   "metadata": {},
   "source": [
    "Loading product data"
   ]
  },
  {
   "cell_type": "code",
   "execution_count": 2,
   "metadata": {},
   "outputs": [
    {
     "name": "stdout",
     "output_type": "stream",
     "text": [
      "CPU times: user 32.5 s, sys: 2.3 s, total: 34.8 s\n",
      "Wall time: 34.9 s\n"
     ]
    },
    {
     "data": {
      "text/html": [
       "<div>\n",
       "<style scoped>\n",
       "    .dataframe tbody tr th:only-of-type {\n",
       "        vertical-align: middle;\n",
       "    }\n",
       "\n",
       "    .dataframe tbody tr th {\n",
       "        vertical-align: top;\n",
       "    }\n",
       "\n",
       "    .dataframe thead th {\n",
       "        text-align: right;\n",
       "    }\n",
       "</style>\n",
       "<table border=\"1\" class=\"dataframe\">\n",
       "  <thead>\n",
       "    <tr style=\"text-align: right;\">\n",
       "      <th></th>\n",
       "      <th>artikel_id</th>\n",
       "      <th>mandant</th>\n",
       "      <th>titel</th>\n",
       "      <th>i_spannung_nervenkitzel</th>\n",
       "      <th>i_liebe_romantik</th>\n",
       "      <th>i_fantasy_sciencefiction</th>\n",
       "      <th>i_fremdsprachiges_anderelaender</th>\n",
       "      <th>i_reiseinvergangenezeiten</th>\n",
       "      <th>i_wissensdurst</th>\n",
       "      <th>i_schoenegeschichten</th>\n",
       "      <th>i_haus_garten</th>\n",
       "      <th>i_hobby_freizeit</th>\n",
       "      <th>i_humorvolles</th>\n",
       "      <th>i_spiel_spass</th>\n",
       "      <th>ag_bis12monate</th>\n",
       "      <th>ag_1bis3</th>\n",
       "      <th>ag_4bis7</th>\n",
       "      <th>ag_8bis11</th>\n",
       "      <th>ag_ab12</th>\n",
       "    </tr>\n",
       "  </thead>\n",
       "  <tbody>\n",
       "    <tr>\n",
       "      <th>3</th>\n",
       "      <td>45359741</td>\n",
       "      <td>2</td>\n",
       "      <td>Ernst, Herzog von Schwaben</td>\n",
       "      <td>f</td>\n",
       "      <td>f</td>\n",
       "      <td>f</td>\n",
       "      <td>f</td>\n",
       "      <td>f</td>\n",
       "      <td>f</td>\n",
       "      <td>t</td>\n",
       "      <td>f</td>\n",
       "      <td>f</td>\n",
       "      <td>f</td>\n",
       "      <td>f</td>\n",
       "      <td>f</td>\n",
       "      <td>f</td>\n",
       "      <td>f</td>\n",
       "      <td>f</td>\n",
       "      <td>f</td>\n",
       "    </tr>\n",
       "    <tr>\n",
       "      <th>9</th>\n",
       "      <td>38740121</td>\n",
       "      <td>2</td>\n",
       "      <td>Trek Fail!</td>\n",
       "      <td>f</td>\n",
       "      <td>f</td>\n",
       "      <td>f</td>\n",
       "      <td>t</td>\n",
       "      <td>f</td>\n",
       "      <td>f</td>\n",
       "      <td>f</td>\n",
       "      <td>f</td>\n",
       "      <td>f</td>\n",
       "      <td>f</td>\n",
       "      <td>f</td>\n",
       "      <td>f</td>\n",
       "      <td>f</td>\n",
       "      <td>f</td>\n",
       "      <td>f</td>\n",
       "      <td>f</td>\n",
       "    </tr>\n",
       "    <tr>\n",
       "      <th>10</th>\n",
       "      <td>105820598</td>\n",
       "      <td>2</td>\n",
       "      <td>Jean Hornsby's Tree-Riffic!</td>\n",
       "      <td>f</td>\n",
       "      <td>f</td>\n",
       "      <td>f</td>\n",
       "      <td>t</td>\n",
       "      <td>f</td>\n",
       "      <td>f</td>\n",
       "      <td>f</td>\n",
       "      <td>f</td>\n",
       "      <td>f</td>\n",
       "      <td>f</td>\n",
       "      <td>f</td>\n",
       "      <td>f</td>\n",
       "      <td>f</td>\n",
       "      <td>f</td>\n",
       "      <td>f</td>\n",
       "      <td>f</td>\n",
       "    </tr>\n",
       "    <tr>\n",
       "      <th>11</th>\n",
       "      <td>45851959</td>\n",
       "      <td>2</td>\n",
       "      <td>Runmagi</td>\n",
       "      <td>f</td>\n",
       "      <td>f</td>\n",
       "      <td>f</td>\n",
       "      <td>t</td>\n",
       "      <td>f</td>\n",
       "      <td>f</td>\n",
       "      <td>f</td>\n",
       "      <td>f</td>\n",
       "      <td>f</td>\n",
       "      <td>f</td>\n",
       "      <td>f</td>\n",
       "      <td>f</td>\n",
       "      <td>f</td>\n",
       "      <td>f</td>\n",
       "      <td>f</td>\n",
       "      <td>f</td>\n",
       "    </tr>\n",
       "    <tr>\n",
       "      <th>12</th>\n",
       "      <td>35872885</td>\n",
       "      <td>2</td>\n",
       "      <td>The Six Day War 1967</td>\n",
       "      <td>f</td>\n",
       "      <td>f</td>\n",
       "      <td>f</td>\n",
       "      <td>t</td>\n",
       "      <td>f</td>\n",
       "      <td>f</td>\n",
       "      <td>f</td>\n",
       "      <td>f</td>\n",
       "      <td>f</td>\n",
       "      <td>f</td>\n",
       "      <td>f</td>\n",
       "      <td>f</td>\n",
       "      <td>f</td>\n",
       "      <td>f</td>\n",
       "      <td>f</td>\n",
       "      <td>f</td>\n",
       "    </tr>\n",
       "  </tbody>\n",
       "</table>\n",
       "</div>"
      ],
      "text/plain": [
       "    artikel_id  mandant                        titel i_spannung_nervenkitzel  \\\n",
       "3     45359741        2   Ernst, Herzog von Schwaben                       f   \n",
       "9     38740121        2                   Trek Fail!                       f   \n",
       "10   105820598        2  Jean Hornsby's Tree-Riffic!                       f   \n",
       "11    45851959        2                      Runmagi                       f   \n",
       "12    35872885        2         The Six Day War 1967                       f   \n",
       "\n",
       "   i_liebe_romantik i_fantasy_sciencefiction i_fremdsprachiges_anderelaender  \\\n",
       "3                 f                        f                               f   \n",
       "9                 f                        f                               t   \n",
       "10                f                        f                               t   \n",
       "11                f                        f                               t   \n",
       "12                f                        f                               t   \n",
       "\n",
       "   i_reiseinvergangenezeiten i_wissensdurst i_schoenegeschichten  \\\n",
       "3                          f              f                    t   \n",
       "9                          f              f                    f   \n",
       "10                         f              f                    f   \n",
       "11                         f              f                    f   \n",
       "12                         f              f                    f   \n",
       "\n",
       "   i_haus_garten i_hobby_freizeit i_humorvolles i_spiel_spass ag_bis12monate  \\\n",
       "3              f                f             f             f              f   \n",
       "9              f                f             f             f              f   \n",
       "10             f                f             f             f              f   \n",
       "11             f                f             f             f              f   \n",
       "12             f                f             f             f              f   \n",
       "\n",
       "   ag_1bis3 ag_4bis7 ag_8bis11 ag_ab12  \n",
       "3         f        f         f       f  \n",
       "9         f        f         f       f  \n",
       "10        f        f         f       f  \n",
       "11        f        f         f       f  \n",
       "12        f        f         f       f  "
      ]
     },
     "execution_count": 2,
     "metadata": {},
     "output_type": "execute_result"
    }
   ],
   "source": [
    "%time productdf = pd.read_csv('artikel_export.csv')\n",
    "productdf = productdf[productdf.mandant==2]\n",
    "productdf.head()"
   ]
  },
  {
   "cell_type": "markdown",
   "metadata": {},
   "source": [
    "Read CSV File. It has a header with customerid,productid,amount"
   ]
  },
  {
   "cell_type": "code",
   "execution_count": 3,
   "metadata": {},
   "outputs": [
    {
     "name": "stdout",
     "output_type": "stream",
     "text": [
      "CPU times: user 5.47 s, sys: 132 ms, total: 5.6 s\n",
      "Wall time: 5.63 s\n"
     ]
    },
    {
     "data": {
      "text/html": [
       "<div>\n",
       "<style scoped>\n",
       "    .dataframe tbody tr th:only-of-type {\n",
       "        vertical-align: middle;\n",
       "    }\n",
       "\n",
       "    .dataframe tbody tr th {\n",
       "        vertical-align: top;\n",
       "    }\n",
       "\n",
       "    .dataframe thead th {\n",
       "        text-align: right;\n",
       "    }\n",
       "</style>\n",
       "<table border=\"1\" class=\"dataframe\">\n",
       "  <thead>\n",
       "    <tr style=\"text-align: right;\">\n",
       "      <th></th>\n",
       "      <th>customerid</th>\n",
       "      <th>productid</th>\n",
       "    </tr>\n",
       "  </thead>\n",
       "  <tbody>\n",
       "    <tr>\n",
       "      <th>0</th>\n",
       "      <td>10157849</td>\n",
       "      <td>140178989</td>\n",
       "    </tr>\n",
       "    <tr>\n",
       "      <th>1</th>\n",
       "      <td>33674328</td>\n",
       "      <td>90057363</td>\n",
       "    </tr>\n",
       "    <tr>\n",
       "      <th>2</th>\n",
       "      <td>36789149</td>\n",
       "      <td>28134702</td>\n",
       "    </tr>\n",
       "    <tr>\n",
       "      <th>3</th>\n",
       "      <td>35022983</td>\n",
       "      <td>45626443</td>\n",
       "    </tr>\n",
       "    <tr>\n",
       "      <th>4</th>\n",
       "      <td>36043966</td>\n",
       "      <td>44992879</td>\n",
       "    </tr>\n",
       "  </tbody>\n",
       "</table>\n",
       "</div>"
      ],
      "text/plain": [
       "  customerid  productid\n",
       "0   10157849  140178989\n",
       "1   33674328   90057363\n",
       "2   36789149   28134702\n",
       "3   35022983   45626443\n",
       "4   36043966   44992879"
      ]
     },
     "execution_count": 3,
     "metadata": {},
     "output_type": "execute_result"
    }
   ],
   "source": [
    "%time df = pd.read_csv('interactions.csv', usecols = ['customerid','productid'], dtype = {'customerid':str, 'productid':str})\n",
    "df.head()"
   ]
  },
  {
   "cell_type": "markdown",
   "metadata": {},
   "source": [
    "Create a new LightFM Dataset containing the customer and product interactions"
   ]
  },
  {
   "cell_type": "code",
   "execution_count": 4,
   "metadata": {
    "scrolled": true
   },
   "outputs": [
    {
     "name": "stdout",
     "output_type": "stream",
     "text": [
      "CPU times: user 4.96 s, sys: 138 ms, total: 5.1 s\n",
      "Wall time: 5.12 s\n",
      "CPU times: user 3.06 s, sys: 27.8 ms, total: 3.08 s\n",
      "Wall time: 3.09 s\n",
      "CPU times: user 18min 28s, sys: 538 ms, total: 18min 29s\n",
      "Wall time: 18min 34s\n",
      "CPU times: user 21min 25s, sys: 16.8 ms, total: 21min 25s\n",
      "Wall time: 21min 30s\n",
      "<996243x5136320 sparse matrix of type '<class 'numpy.int32'>'\n",
      "\twith 10868978 stored elements in COOrdinate format>\n",
      "Total number of unique customers         : 996243\n",
      "Total number of unique products overall  : 4291111\n",
      "Total number of unique products orders   : 845209\n"
     ]
    }
   ],
   "source": [
    "uniqueCustomer = df['customerid'].unique()\n",
    "uniqueProducts = productdf['artikel_id'].unique()\n",
    "\n",
    "dataset = Dataset()\n",
    "%time dataset.fit(uniqueCustomer,uniqueProducts)\n",
    "%time dataset.fit_partial(items = df['productid'].unique(), item_features = ['i_spannung_nervenkitzel','i_liebe_romantik','i_fantasy_sciencefiction','i_fremdsprachiges_anderelaender','i_reiseinvergangenezeiten','i_wissensdurst','i_schoenegeschichten','i_haus_garten','i_hobby_freizeit','i_humorvolles','i_spiel_spass','ag_bis12monate', 'ag_bis12monate', 'ag_1bis3','ag_4bis7','ag_8bis11','ag_ab12'])\n",
    "\n",
    "def toitemfeatures(row):\n",
    "    result = []\n",
    "    if (row.i_spannung_nervenkitzel != 'f'):\n",
    "        result.append('i_spannung_nervenkitzel')\n",
    "    if (row.i_liebe_romantik != 'f'):\n",
    "        result.append('i_liebe_romantik')\n",
    "    if (row.i_fantasy_sciencefiction != 'f'):\n",
    "        result.append('i_fantasy_sciencefiction')\n",
    "    if (row.i_fremdsprachiges_anderelaender != 'f'):        \n",
    "        result.append('i_fremdsprachiges_anderelaender')\n",
    "    if (row.i_reiseinvergangenezeiten != 'f'):        \n",
    "        result.append('i_reiseinvergangenezeiten')\n",
    "    if (row.i_wissensdurst != 'f'):        \n",
    "        result.append('i_wissensdurst')\n",
    "    if (row.i_schoenegeschichten != 'f'):        \n",
    "        result.append('i_schoenegeschichten')\n",
    "    if (row.i_haus_garten != 'f'):        \n",
    "        result.append('i_haus_garten')\n",
    "    if (row.i_hobby_freizeit != 'f'):        \n",
    "        result.append('i_hobby_freizeit')\n",
    "    if (row.i_humorvolles != 'f'):        \n",
    "        result.append('i_humorvolles')\n",
    "    if (row.i_spiel_spass != 'f'):        \n",
    "        result.append('i_spiel_spass')\n",
    "    return result\n",
    "\n",
    "%time item_features = dataset.build_item_features((row.artikel_id, toitemfeatures(row)) for index, row in productdf.iterrows())\n",
    "\n",
    "%time (interactions, weights) = dataset.build_interactions((row.customerid, row.productid) for index, row in df.iterrows())\n",
    "\n",
    "print(repr(interactions))\n",
    "    \n",
    "print('Total number of unique customers         : %.0f' % len(uniqueCustomer))\n",
    "print('Total number of unique products overall  : %.0f' % len(uniqueProducts))\n",
    "print('Total number of unique products orders   : %.0f' % len(df['productid'].unique()))\n"
   ]
  },
  {
   "cell_type": "markdown",
   "metadata": {},
   "source": [
    "Creating train and test split model"
   ]
  },
  {
   "cell_type": "code",
   "execution_count": 5,
   "metadata": {},
   "outputs": [],
   "source": [
    "(train,test) = random_train_test_split(interactions, test_percentage=0.2)"
   ]
  },
  {
   "cell_type": "markdown",
   "metadata": {},
   "source": [
    "Train the LightFM model"
   ]
  },
  {
   "cell_type": "code",
   "execution_count": 6,
   "metadata": {},
   "outputs": [
    {
     "name": "stdout",
     "output_type": "stream",
     "text": [
      "Training LightFM model\n",
      "CPU times: user 2h 9min 51s, sys: 9.44 s, total: 2h 10min\n",
      "Wall time: 20min 28s\n"
     ]
    },
    {
     "data": {
      "text/plain": [
       "<lightfm.lightfm.LightFM at 0x7fbf9f9f7160>"
      ]
     },
     "execution_count": 6,
     "metadata": {},
     "output_type": "execute_result"
    }
   ],
   "source": [
    "print('Training LightFM model')\n",
    "model = LightFM(loss='warp', no_components=32)\n",
    "%time model.fit(train, item_features=item_features, epochs=100, num_threads=6)"
   ]
  },
  {
   "cell_type": "code",
   "execution_count": 7,
   "metadata": {},
   "outputs": [
    {
     "name": "stdout",
     "output_type": "stream",
     "text": [
      "Model saved\n",
      "Dataset saved\n"
     ]
    }
   ],
   "source": [
    "joblib.dump(model, 'lightfmmodel.sav')\n",
    "print('Model saved');\n",
    "joblib.dump(dataset, 'lightfmdataset.sav')\n",
    "print('Dataset saved');"
   ]
  },
  {
   "cell_type": "markdown",
   "metadata": {},
   "source": [
    "Sample predictions"
   ]
  },
  {
   "cell_type": "code",
   "execution_count": 11,
   "metadata": {},
   "outputs": [
    {
     "name": "stdout",
     "output_type": "stream",
     "text": [
      "Recommentations for user 31460292\n",
      "116765117\t-4.353509\n",
      "56060241\t-4.243227\n",
      "44370424\t-4.213742\n",
      "45217202\t-4.211519\n",
      "44370400\t-4.210111\n",
      "45612166\t-4.209202\n",
      "18794237\t-4.207780\n",
      "21363710\t-4.207471\n",
      "45360118\t-4.207326\n",
      "17835006\t-4.206690\n"
     ]
    }
   ],
   "source": [
    "def sample_recommendation(model, data, user_ids):\n",
    "\n",
    "    user2idx, user_feature_map, item2idx, item_feature_map = dataset.mapping()\n",
    "    \n",
    "    item2idx_inv = dict(map(reversed, item2idx.items()))    \n",
    "\n",
    "    n_users, n_items = data.shape\n",
    "\n",
    "    for user_id in user_ids:\n",
    "        \n",
    "        print('Recommentations for user %s' % user_id)\n",
    "        \n",
    "        scores = model.predict(user2idx[user_id], numpy.arange(n_items), item_features=item_features)\n",
    "        \n",
    "        comp = []\n",
    "        \n",
    "        for i in range(n_items):\n",
    "            itemid = item2idx_inv[i]\n",
    "            score = scores[i]\n",
    "            comp.append((itemid,score))\n",
    "        \n",
    "        comp.sort(key = operator.itemgetter(1), reverse = False)    \n",
    "        \n",
    "        for i in range(10):\n",
    "            (itemid,score) = comp[i]\n",
    "            print('%s\\t%2f' % (itemid, score))\n",
    "    \n",
    "sample_recommendation(model, interactions, ['31460292'])"
   ]
  },
  {
   "cell_type": "markdown",
   "metadata": {},
   "source": [
    "Evaluate the model"
   ]
  },
  {
   "cell_type": "code",
   "execution_count": null,
   "metadata": {},
   "outputs": [],
   "source": [
    "print('Evaluating model')\n",
    "\n",
    "aucscore = auc_score(model, interactions, num_threads=6, item_features=item_features).mean()\n",
    "print('AUC Score:          %.2f.' % (aucscore))\n",
    "\n",
    "aucscore_train = auc_score(model, train, num_threads=6, item_features=item_features).mean()\n",
    "print('AUC Score train:    %.2f.' % (aucscore_train))\n",
    "\n",
    "train_precision = precision_at_k(model, train, k=5, num_threads=6, item_features=item_features).mean()\n",
    "test_precision = precision_at_k(model, test, k=5, num_threads=6,item_features=item_features).mean()\n",
    "print('Precision@k5: train %.2f.' % (train_precision))\n",
    "print('Precision@k5: test  %.2f.' % (test_precision))"
   ]
  },
  {
   "cell_type": "code",
   "execution_count": null,
   "metadata": {},
   "outputs": [],
   "source": []
  }
 ],
 "metadata": {
  "kernelspec": {
   "display_name": "Python 3",
   "language": "python",
   "name": "python3"
  },
  "language_info": {
   "codemirror_mode": {
    "name": "ipython",
    "version": 3
   },
   "file_extension": ".py",
   "mimetype": "text/x-python",
   "name": "python",
   "nbconvert_exporter": "python",
   "pygments_lexer": "ipython3",
   "version": "3.7.2"
  }
 },
 "nbformat": 4,
 "nbformat_minor": 2
}
