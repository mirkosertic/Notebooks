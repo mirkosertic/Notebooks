{
 "cells": [
  {
   "cell_type": "markdown",
   "metadata": {},
   "source": [
    "Python imports"
   ]
  },
  {
   "cell_type": "code",
   "execution_count": 1,
   "metadata": {},
   "outputs": [],
   "source": [
    "import pandas as pd\n",
    "from scipy import sparse\n",
    "import numpy\n",
    "from lightfm import LightFM\n",
    "from lightfm.data import Dataset\n",
    "from lightfm.evaluation import precision_at_k\n",
    "from lightfm.evaluation import auc_score\n",
    "from lightfm.cross_validation import random_train_test_split\n",
    "from sklearn.externals import joblib"
   ]
  },
  {
   "cell_type": "markdown",
   "metadata": {},
   "source": [
    "Read CSV File. It has a header with customerid,productid,amount"
   ]
  },
  {
   "cell_type": "code",
   "execution_count": 2,
   "metadata": {},
   "outputs": [],
   "source": [
    "df = pd.read_csv('interactions.csv', usecols = ['customerid','productid'], dtype = {'customerid':str, 'productid':str})"
   ]
  },
  {
   "cell_type": "markdown",
   "metadata": {},
   "source": [
    "Create a new LightFM Dataset containing the customer and product interactions"
   ]
  },
  {
   "cell_type": "code",
   "execution_count": null,
   "metadata": {
    "scrolled": true
   },
   "outputs": [],
   "source": [
    "uniqueCustomer = df['customerid'].unique()\n",
    "uniqueProducts = df['productid'].unique()\n",
    "\n",
    "dataset = Dataset()\n",
    "dataset.fit(uniqueCustomer,uniqueProducts)\n",
    "\n",
    "(interactions, weights) = dataset.build_interactions((row.customerid, row.productid)\n",
    "                                                      for index, row in df.iterrows())\n",
    "\n",
    "print(repr(interactions))\n",
    "\n",
    "    \n",
    "print('Total number of unique customers : %.0f' % len(uniqueCustomer))\n",
    "print('Total number of unique products  : %.0f' % len(uniqueProducts))\n"
   ]
  },
  {
   "cell_type": "markdown",
   "metadata": {},
   "source": [
    "Train the model"
   ]
  },
  {
   "cell_type": "code",
   "execution_count": null,
   "metadata": {},
   "outputs": [],
   "source": [
    "print('Training model')\n",
    "(train,test) = random_train_test_split(interactions, test_percentage=0.2)\n",
    "\n",
    "model = LightFM(loss='warp', no_components=15)\n",
    "%time model.fit(train, epochs=100, num_threads=8)"
   ]
  },
  {
   "cell_type": "code",
   "execution_count": null,
   "metadata": {},
   "outputs": [],
   "source": [
    "joblib.dump(model, 'lightfmmodel.sav')\n",
    "print('Model saved');"
   ]
  },
  {
   "cell_type": "markdown",
   "metadata": {},
   "source": [
    "Evaluate the model"
   ]
  },
  {
   "cell_type": "code",
   "execution_count": null,
   "metadata": {},
   "outputs": [],
   "source": [
    "print('Evaluating model')\n",
    "\n",
    "aucscore = auc_score(model, interactions, num_threads=8).mean()\n",
    "print('AUC Score:          %.2f.' % (aucscore))\n",
    "\n",
    "aucscore_train = auc_score(model, train, num_threads=8).mean()\n",
    "print('AUC Score train:    %.2f.' % (aucscore_train))\n",
    "\n",
    "train_precision = precision_at_k(model, train, k=5, num_threads=8).mean()\n",
    "test_precision = precision_at_k(model, test, k=5, num_threads=8).mean()\n",
    "print('Precision@k5: train %.2f.' % (train_precision))\n",
    "print('Precision@k5: test  %.2f.' % (test_precision))"
   ]
  },
  {
   "cell_type": "code",
   "execution_count": null,
   "metadata": {},
   "outputs": [],
   "source": []
  }
 ],
 "metadata": {
  "kernelspec": {
   "display_name": "Python 3",
   "language": "python",
   "name": "python3"
  },
  "language_info": {
   "codemirror_mode": {
    "name": "ipython",
    "version": 3
   },
   "file_extension": ".py",
   "mimetype": "text/x-python",
   "name": "python",
   "nbconvert_exporter": "python",
   "pygments_lexer": "ipython3",
   "version": "3.7.2"
  }
 },
 "nbformat": 4,
 "nbformat_minor": 2
}
