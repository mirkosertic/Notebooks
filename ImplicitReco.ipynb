{
 "cells": [
  {
   "cell_type": "code",
   "execution_count": 1,
   "metadata": {},
   "outputs": [],
   "source": [
    "import implicit\n",
    "import pandas as pd\n",
    "from scipy import sparse\n",
    "import numpy\n",
    "from lightfm import LightFM\n",
    "from lightfm.data import Dataset\n",
    "from lightfm.evaluation import precision_at_k\n",
    "from lightfm.evaluation import auc_score\n",
    "from lightfm.cross_validation import random_train_test_split\n",
    "from sklearn.externals import joblib\n",
    "import implicit"
   ]
  },
  {
   "cell_type": "code",
   "execution_count": 2,
   "metadata": {},
   "outputs": [
    {
     "name": "stdout",
     "output_type": "stream",
     "text": [
      "CPU times: user 1.14 s, sys: 781 ms, total: 1.92 s\n",
      "Wall time: 1.89 s\n"
     ]
    }
   ],
   "source": [
    "%time df = pd.read_csv('orders.csv', usecols = ['customerid','productid'], dtype = {'customerid':str, 'productid':str})"
   ]
  },
  {
   "cell_type": "code",
   "execution_count": 3,
   "metadata": {},
   "outputs": [],
   "source": [
    "uniqueCustomer = df['customerid'].unique()\n",
    "uniqueProducts = df['productid'].unique()\n",
    "\n",
    "print('Total number of unique customers : %.0f' % len(uniqueCustomer))\n",
    "print('Total number of unique products  : %.0f' % len(uniqueProducts))"
   ]
  },
  {
   "cell_type": "code",
   "execution_count": null,
   "metadata": {},
   "outputs": [
    {
     "name": "stdout",
     "output_type": "stream",
     "text": [
      "0 / 2129758\n",
      "50000 / 2129758\n",
      "100000 / 2129758\n",
      "150000 / 2129758\n",
      "200000 / 2129758\n",
      "250000 / 2129758\n",
      "300000 / 2129758\n",
      "350000 / 2129758\n",
      "400000 / 2129758\n",
      "450000 / 2129758\n",
      "500000 / 2129758\n",
      "550000 / 2129758\n",
      "600000 / 2129758\n",
      "650000 / 2129758\n",
      "700000 / 2129758\n",
      "750000 / 2129758\n",
      "800000 / 2129758\n",
      "850000 / 2129758\n",
      "900000 / 2129758\n",
      "950000 / 2129758\n",
      "1000000 / 2129758\n",
      "1050000 / 2129758\n",
      "1100000 / 2129758\n",
      "1150000 / 2129758\n",
      "1200000 / 2129758\n",
      "1250000 / 2129758\n",
      "1300000 / 2129758\n",
      "1350000 / 2129758\n",
      "1400000 / 2129758\n",
      "1450000 / 2129758\n",
      "1500000 / 2129758\n",
      "1550000 / 2129758\n",
      "1600000 / 2129758\n",
      "1650000 / 2129758\n",
      "1700000 / 2129758\n",
      "1750000 / 2129758\n",
      "1800000 / 2129758\n",
      "1850000 / 2129758\n",
      "1900000 / 2129758\n",
      "1950000 / 2129758\n",
      "2000000 / 2129758\n",
      "2050000 / 2129758\n",
      "2100000 / 2129758\n",
      "CPU times: user 891 ms, sys: 141 ms, total: 1.03 s\n",
      "Wall time: 1.05 s\n",
      "<721956x404838 sparse matrix of type '<class 'numpy.int64'>'\n",
      "\twith 2097754 stored elements in Compressed Sparse Row format>\n"
     ]
    }
   ],
   "source": [
    "customerDictionary = dict(enumerate(uniqueCustomer.flatten(), 1))\n",
    "customerDictionaryInv = {v: k for k, v in customerDictionary.items()}\n",
    "productDictionary = dict(enumerate(uniqueProducts.flatten(), 1))\n",
    "productDictionaryInv = {v: k for k, v in productDictionary.items()}\n",
    "\n",
    "rowIdx = [None] * len(df.index)\n",
    "colIdx = [None] * len(df.index)\n",
    "data = [None] * len(df.index)\n",
    "for index, row in df.iterrows():\n",
    "    custidx = customerDictionaryInv[row.customerid]\n",
    "    productidx = productDictionaryInv[row.productid]\n",
    "    \n",
    "    rowIdx[index] = custidx\n",
    "    colIdx[index] = productidx\n",
    "    data[index] = 1\n",
    "    \n",
    "    if index % 50000 == 0:\n",
    "        print(\"%s / %s\" % (index, len(df.index)))\n",
    "    \n",
    "%time orders = sparse.csr_matrix((data, (rowIdx,colIdx)))\n",
    "\n",
    "print(repr(orders))"
   ]
  },
  {
   "cell_type": "code",
   "execution_count": null,
   "metadata": {},
   "outputs": [
    {
     "name": "stderr",
     "output_type": "stream",
     "text": [
      "WARNING:root:OpenBLAS detected. Its highly recommend to set the environment variable 'export OPENBLAS_NUM_THREADS=1' to disable its internal multithreading\n",
      " 13%|█▎        | 2.0/15 [02:05<13:08, 60.67s/it]"
     ]
    }
   ],
   "source": [
    "model = implicit.als.AlternatingLeastSquares(factors=50)\n",
    "%time model.fit(orders)"
   ]
  },
  {
   "cell_type": "code",
   "execution_count": null,
   "metadata": {},
   "outputs": [],
   "source": []
  }
 ],
 "metadata": {
  "kernelspec": {
   "display_name": "Python 3",
   "language": "python",
   "name": "python3"
  },
  "language_info": {
   "codemirror_mode": {
    "name": "ipython",
    "version": 3
   },
   "file_extension": ".py",
   "mimetype": "text/x-python",
   "name": "python",
   "nbconvert_exporter": "python",
   "pygments_lexer": "ipython3",
   "version": "3.6.7"
  }
 },
 "nbformat": 4,
 "nbformat_minor": 2
}
