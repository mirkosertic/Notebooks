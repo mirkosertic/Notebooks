{
 "cells": [
  {
   "cell_type": "code",
   "execution_count": null,
   "metadata": {},
   "outputs": [],
   "source": [
    "import implicit\n",
    "import pandas as pd\n",
    "import numpy\n",
    "from scipy import sparse\n",
    "from sklearn.externals import joblib"
   ]
  },
  {
   "cell_type": "code",
   "execution_count": null,
   "metadata": {},
   "outputs": [],
   "source": [
    "%time df = pd.read_csv('interactions.csv', usecols = ['customerid','productid','amount'], dtype = {'customerid':\"category\", 'productid':\"category\", \"amount\":int})"
   ]
  },
  {
   "cell_type": "code",
   "execution_count": null,
   "metadata": {},
   "outputs": [],
   "source": [
    "df['amount'].replace(1,5)\n",
    "df['amount'].replace(0,1)\n",
    "\n",
    "%time grouped = df.groupby(['customerid','productid'])['amount'].sum().reset_index()"
   ]
  },
  {
   "cell_type": "code",
   "execution_count": null,
   "metadata": {},
   "outputs": [],
   "source": [
    "rowdata = grouped['productid'].cat.codes\n",
    "coldata = grouped['customerid'].cat.codes\n",
    "data = grouped['amount']\n",
    "\n",
    "orders = sparse.coo_matrix((data, (rowdata, coldata)))\n",
    "print(repr(orders))"
   ]
  },
  {
   "cell_type": "code",
   "execution_count": null,
   "metadata": {},
   "outputs": [],
   "source": [
    "model = implicit.als.AlternatingLeastSquares(factors=5)\n",
    "%time model.fit(orders)"
   ]
  },
  {
   "cell_type": "code",
   "execution_count": null,
   "metadata": {},
   "outputs": [],
   "source": [
    "orders_transposed = orders.T.tocsr()\n",
    "userid = grouped['customerid'].cat.categories.get_loc('31460292')\n",
    "\n",
    "recommendations = model.recommend(userid, orders_transposed, N=10, filter_already_liked_items=True)\n",
    "\n",
    "usercategories = grouped['customerid'].cat;\n",
    "itemcategories = grouped['productid'].cat;\n",
    "\n",
    "print('Reco items')\n",
    "for itemid,score in recommendations:\n",
    "    print(\"%s / %s\" % (itemcategories.categories[itemcategories.codes[itemid]], score))\n",
    "    \n",
    "print('Similar users')    \n",
    "for uid,score in model.similar_users(userid): \n",
    "    print(\"%s / %s\" % (usercategories.categories[usercategories.codes[uid]], score))"
   ]
  },
  {
   "cell_type": "code",
   "execution_count": null,
   "metadata": {},
   "outputs": [],
   "source": []
  }
 ],
 "metadata": {
  "kernelspec": {
   "display_name": "Python 3",
   "language": "python",
   "name": "python3"
  },
  "language_info": {
   "codemirror_mode": {
    "name": "ipython",
    "version": 3
   },
   "file_extension": ".py",
   "mimetype": "text/x-python",
   "name": "python",
   "nbconvert_exporter": "python",
   "pygments_lexer": "ipython3",
   "version": "3.7.2"
  }
 },
 "nbformat": 4,
 "nbformat_minor": 2
}
