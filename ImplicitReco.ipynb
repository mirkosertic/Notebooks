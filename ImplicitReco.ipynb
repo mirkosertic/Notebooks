{
 "cells": [
  {
   "cell_type": "code",
   "execution_count": 1,
   "metadata": {},
   "outputs": [],
   "source": [
    "import implicit\n",
    "import pandas as pd\n",
    "import numpy\n",
    "from scipy import sparse"
   ]
  },
  {
   "cell_type": "code",
   "execution_count": 2,
   "metadata": {},
   "outputs": [
    {
     "name": "stdout",
     "output_type": "stream",
     "text": [
      "CPU times: user 1min 16s, sys: 2.2 s, total: 1min 18s\n",
      "Wall time: 1min 19s\n"
     ]
    }
   ],
   "source": [
    "%time df = pd.read_csv('orders_last_year.csv', sep='\\t', usecols = ['kundennummer','artikelnummer','werkid','autorid','autor','mediumid','medium'], dtype = {'werkid':\"category\", 'autorid':\"category\", 'kundennummer':\"category\", 'artikelnummer':\"category\"})"
   ]
  },
  {
   "cell_type": "code",
   "execution_count": 3,
   "metadata": {},
   "outputs": [
    {
     "name": "stdout",
     "output_type": "stream",
     "text": [
      "CPU times: user 3.81 s, sys: 654 ms, total: 4.46 s\n",
      "Wall time: 4.52 s\n"
     ]
    },
    {
     "data": {
      "text/html": [
       "<div>\n",
       "<style scoped>\n",
       "    .dataframe tbody tr th:only-of-type {\n",
       "        vertical-align: middle;\n",
       "    }\n",
       "\n",
       "    .dataframe tbody tr th {\n",
       "        vertical-align: top;\n",
       "    }\n",
       "\n",
       "    .dataframe thead th {\n",
       "        text-align: right;\n",
       "    }\n",
       "</style>\n",
       "<table border=\"1\" class=\"dataframe\">\n",
       "  <thead>\n",
       "    <tr style=\"text-align: right;\">\n",
       "      <th></th>\n",
       "      <th>kundennummer</th>\n",
       "      <th>autorid</th>\n",
       "      <th>amount</th>\n",
       "    </tr>\n",
       "  </thead>\n",
       "  <tbody>\n",
       "    <tr>\n",
       "      <th>0</th>\n",
       "      <td>7700160454</td>\n",
       "      <td>10990216</td>\n",
       "      <td>1</td>\n",
       "    </tr>\n",
       "    <tr>\n",
       "      <th>1</th>\n",
       "      <td>7700160454</td>\n",
       "      <td>11387441</td>\n",
       "      <td>1</td>\n",
       "    </tr>\n",
       "    <tr>\n",
       "      <th>2</th>\n",
       "      <td>7700160454</td>\n",
       "      <td>12058762</td>\n",
       "      <td>2</td>\n",
       "    </tr>\n",
       "    <tr>\n",
       "      <th>3</th>\n",
       "      <td>7700160454</td>\n",
       "      <td>137510</td>\n",
       "      <td>4</td>\n",
       "    </tr>\n",
       "    <tr>\n",
       "      <th>4</th>\n",
       "      <td>7700160454</td>\n",
       "      <td>4354809</td>\n",
       "      <td>1</td>\n",
       "    </tr>\n",
       "  </tbody>\n",
       "</table>\n",
       "</div>"
      ],
      "text/plain": [
       "  kundennummer   autorid  amount\n",
       "0   7700160454  10990216       1\n",
       "1   7700160454  11387441       1\n",
       "2   7700160454  12058762       2\n",
       "3   7700160454    137510       4\n",
       "4   7700160454   4354809       1"
      ]
     },
     "execution_count": 3,
     "metadata": {},
     "output_type": "execute_result"
    }
   ],
   "source": [
    "%time grouped = df.groupby(['kundennummer','autorid']).size().reset_index(name = 'amount')\n",
    "\n",
    "grouped.head()"
   ]
  },
  {
   "cell_type": "code",
   "execution_count": 4,
   "metadata": {},
   "outputs": [
    {
     "name": "stdout",
     "output_type": "stream",
     "text": [
      "<198112x2415136 sparse matrix of type '<class 'numpy.int64'>'\n",
      "\twith 7251609 stored elements in COOrdinate format>\n"
     ]
    }
   ],
   "source": [
    "rowdata = grouped['autorid'].cat.codes\n",
    "coldata = grouped['kundennummer'].cat.codes\n",
    "data = grouped['amount']\n",
    "\n",
    "orders = sparse.coo_matrix((data, (rowdata, coldata)))\n",
    "print(repr(orders))"
   ]
  },
  {
   "cell_type": "code",
   "execution_count": 5,
   "metadata": {},
   "outputs": [
    {
     "name": "stderr",
     "output_type": "stream",
     "text": [
      "100%|██████████| 15.0/15 [02:05<00:00,  7.89s/it]"
     ]
    },
    {
     "name": "stdout",
     "output_type": "stream",
     "text": [
      "CPU times: user 5min 46s, sys: 6min 6s, total: 11min 52s\n",
      "Wall time: 2min 7s\n"
     ]
    },
    {
     "name": "stderr",
     "output_type": "stream",
     "text": [
      "\n"
     ]
    }
   ],
   "source": [
    "model = implicit.als.AlternatingLeastSquares(factors=32)\n",
    "%time model.fit(orders)"
   ]
  },
  {
   "cell_type": "code",
   "execution_count": 8,
   "metadata": {},
   "outputs": [
    {
     "name": "stdout",
     "output_type": "stream",
     "text": [
      "Reco items\n",
      "9423657 / 0.14432508\n",
      "667296 / 0.11732496\n",
      "337927 / 0.096793205\n",
      "4933844 / 0.093283\n",
      "14683409 / 0.08835985\n",
      "15338320 / 0.08754596\n",
      "1173422 / 0.08530168\n",
      "156684 / 0.08435494\n",
      "13145224 / 0.08259083\n",
      "5705283 / 0.081578285\n",
      "Similar users\n",
      "7703301690 / 0.04869334\n",
      "7705256524 / 0.048227716\n",
      "7705373600 / 0.048032787\n",
      "7714575354 / 0.047891755\n",
      "7705188890 / 0.04789023\n",
      "7701201851 / 0.04780662\n",
      "7705201212 / 0.04779697\n",
      "7705269790 / 0.04776013\n",
      "7705655021 / 0.04775347\n",
      "7702977461 / 0.047731023\n"
     ]
    }
   ],
   "source": [
    "orders_transposed = orders.T.tocsr()\n",
    "\n",
    "userid = grouped['kundennummer'].cat.categories.get_loc('7703072433')\n",
    "\n",
    "# 10009571\n",
    "# 36980482\n",
    "\n",
    "recommendations = model.recommend(userid, orders_transposed, N=10, filter_already_liked_items=False)\n",
    "\n",
    "usercategories = grouped['kundennummer'].cat;\n",
    "itemcategories = grouped['autorid'].cat;\n",
    "\n",
    "print('Reco items')\n",
    "for itemid,score in recommendations:\n",
    "    print(\"%s / %s\" % (itemcategories.categories[itemcategories.codes[itemid]], score))\n",
    "    \n",
    "print('Similar users')    \n",
    "for uid,score in model.similar_users(userid): \n",
    "    print(\"%s / %s\" % (usercategories.categories[usercategories.codes[uid]], score))"
   ]
  },
  {
   "cell_type": "code",
   "execution_count": null,
   "metadata": {},
   "outputs": [],
   "source": []
  }
 ],
 "metadata": {
  "kernelspec": {
   "display_name": "Python 3",
   "language": "python",
   "name": "python3"
  },
  "language_info": {
   "codemirror_mode": {
    "name": "ipython",
    "version": 3
   },
   "file_extension": ".py",
   "mimetype": "text/x-python",
   "name": "python",
   "nbconvert_exporter": "python",
   "pygments_lexer": "ipython3",
   "version": "3.7.3"
  }
 },
 "nbformat": 4,
 "nbformat_minor": 2
}
