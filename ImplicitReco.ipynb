{
 "cells": [
  {
   "cell_type": "code",
   "execution_count": 1,
   "metadata": {},
   "outputs": [],
   "source": [
    "import implicit\n",
    "import pandas as pd\n",
    "import numpy\n",
    "from scipy import sparse\n",
    "from sklearn.externals import joblib"
   ]
  },
  {
   "cell_type": "code",
   "execution_count": 2,
   "metadata": {},
   "outputs": [
    {
     "name": "stdout",
     "output_type": "stream",
     "text": [
      "CPU times: user 26.2 s, sys: 3.28 s, total: 29.5 s\n",
      "Wall time: 30 s\n"
     ]
    }
   ],
   "source": [
    "%time df = pd.read_csv('interactions_nonull.csv', usecols = ['customerid','productid','amount'], dtype = {'customerid':\"category\", 'productid':\"category\", \"amount\":int})"
   ]
  },
  {
   "cell_type": "code",
   "execution_count": 3,
   "metadata": {},
   "outputs": [
    {
     "name": "stdout",
     "output_type": "stream",
     "text": [
      "CPU times: user 3.58 s, sys: 2.05 s, total: 5.62 s\n",
      "Wall time: 5.68 s\n"
     ]
    }
   ],
   "source": [
    "df['amount'].replace(1,5)\n",
    "df['amount'].replace(0,1)\n",
    "\n",
    "%time grouped = df.groupby(['customerid','productid'])['amount'].sum().reset_index()"
   ]
  },
  {
   "cell_type": "code",
   "execution_count": 4,
   "metadata": {},
   "outputs": [
    {
     "name": "stdout",
     "output_type": "stream",
     "text": [
      "<845208x995441 sparse matrix of type '<class 'numpy.int64'>'\n",
      "\twith 6320265 stored elements in COOrdinate format>\n"
     ]
    }
   ],
   "source": [
    "rowdata = grouped['productid'].cat.codes\n",
    "coldata = grouped['customerid'].cat.codes\n",
    "data = grouped['amount']\n",
    "\n",
    "orders = sparse.coo_matrix((data, (rowdata, coldata)))\n",
    "print(repr(orders))"
   ]
  },
  {
   "cell_type": "code",
   "execution_count": 5,
   "metadata": {},
   "outputs": [
    {
     "name": "stderr",
     "output_type": "stream",
     "text": [
      "100%|██████████| 15.0/15 [01:07<00:00,  3.60s/it]"
     ]
    },
    {
     "name": "stdout",
     "output_type": "stream",
     "text": [
      "CPU times: user 2min 8s, sys: 1min 30s, total: 3min 38s\n",
      "Wall time: 1min 8s\n"
     ]
    },
    {
     "name": "stderr",
     "output_type": "stream",
     "text": [
      "\n"
     ]
    }
   ],
   "source": [
    "model = implicit.als.AlternatingLeastSquares(factors=32)\n",
    "%time model.fit(orders)"
   ]
  },
  {
   "cell_type": "code",
   "execution_count": 6,
   "metadata": {},
   "outputs": [
    {
     "name": "stdout",
     "output_type": "stream",
     "text": [
      "Reco items\n",
      "48030112 / 2.8293478e-13\n",
      "95444148 / 1.9978442e-13\n",
      "64514473 / 1.8362232e-13\n",
      "87300068 / 1.7123965e-13\n",
      "142012876 / 1.5539103e-13\n",
      "42378891 / 1.4982026e-13\n",
      "91569175 / 1.3870671e-13\n",
      "73764965 / 1.2925576e-13\n",
      "115538429 / 1.2534407e-13\n",
      "62292650 / 1.2519453e-13\n",
      "Similar users\n",
      "30663067 / 5.822139e-14\n",
      "31242483 / 5.821853e-14\n",
      "17282934 / 5.8218275e-14\n",
      "34680414 / 5.821699e-14\n",
      "36579283 / 5.821624e-14\n",
      "31347510 / 5.821587e-14\n",
      "36787828 / 5.8214684e-14\n",
      "34245808 / 5.8214216e-14\n",
      "34307914 / 5.821364e-14\n",
      "30715132 / 5.821342e-14\n"
     ]
    }
   ],
   "source": [
    "orders_transposed = orders.T.tocsr()\n",
    "userid = grouped['customerid'].cat.categories.get_loc('31460292')\n",
    "\n",
    "recommendations = model.recommend(userid, orders_transposed, N=10, filter_already_liked_items=True)\n",
    "\n",
    "usercategories = grouped['customerid'].cat;\n",
    "itemcategories = grouped['productid'].cat;\n",
    "\n",
    "print('Reco items')\n",
    "for itemid,score in recommendations:\n",
    "    print(\"%s / %s\" % (itemcategories.categories[itemcategories.codes[itemid]], score))\n",
    "    \n",
    "print('Similar users')    \n",
    "for uid,score in model.similar_users(userid): \n",
    "    print(\"%s / %s\" % (usercategories.categories[usercategories.codes[uid]], score))"
   ]
  },
  {
   "cell_type": "code",
   "execution_count": null,
   "metadata": {},
   "outputs": [],
   "source": []
  }
 ],
 "metadata": {
  "kernelspec": {
   "display_name": "Python 3",
   "language": "python",
   "name": "python3"
  },
  "language_info": {
   "codemirror_mode": {
    "name": "ipython",
    "version": 3
   },
   "file_extension": ".py",
   "mimetype": "text/x-python",
   "name": "python",
   "nbconvert_exporter": "python",
   "pygments_lexer": "ipython3",
   "version": "3.6.7"
  }
 },
 "nbformat": 4,
 "nbformat_minor": 2
}
