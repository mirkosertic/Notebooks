{
 "cells": [
  {
   "cell_type": "markdown",
   "metadata": {},
   "source": [
    "Python imports"
   ]
  },
  {
   "cell_type": "code",
   "execution_count": 1,
   "metadata": {},
   "outputs": [],
   "source": [
    "import pandas as pd\n",
    "from scipy import sparse\n",
    "import numpy\n",
    "from lightfm import LightFM\n",
    "from lightfm.data import Dataset\n",
    "from lightfm.evaluation import precision_at_k\n",
    "from lightfm.evaluation import auc_score\n",
    "from lightfm.cross_validation import random_train_test_split\n",
    "import operator"
   ]
  },
  {
   "cell_type": "markdown",
   "metadata": {},
   "source": [
    "Loading product data"
   ]
  },
  {
   "cell_type": "code",
   "execution_count": 2,
   "metadata": {},
   "outputs": [
    {
     "name": "stdout",
     "output_type": "stream",
     "text": [
      "CPU times: user 1min 15s, sys: 2.08 s, total: 1min 17s\n",
      "Wall time: 1min 17s\n"
     ]
    }
   ],
   "source": [
    "%time df = pd.read_csv('orders_last_year.csv', sep='\\t', usecols = ['kundennummer','artikelnummer','werkid','autorid','autor','mediumid','medium'], dtype = {'werkid':\"category\", 'autorid':\"category\", 'kundennummer':\"category\", 'artikelnummer':\"category\"})\n"
   ]
  },
  {
   "cell_type": "markdown",
   "metadata": {},
   "source": [
    "Read CSV File. It has a header with customerid,productid,amount"
   ]
  },
  {
   "cell_type": "code",
   "execution_count": 3,
   "metadata": {},
   "outputs": [
    {
     "name": "stdout",
     "output_type": "stream",
     "text": [
      "CPU times: user 3.6 s, sys: 551 ms, total: 4.15 s\n",
      "Wall time: 4.17 s\n"
     ]
    },
    {
     "data": {
      "text/html": [
       "<div>\n",
       "<style scoped>\n",
       "    .dataframe tbody tr th:only-of-type {\n",
       "        vertical-align: middle;\n",
       "    }\n",
       "\n",
       "    .dataframe tbody tr th {\n",
       "        vertical-align: top;\n",
       "    }\n",
       "\n",
       "    .dataframe thead th {\n",
       "        text-align: right;\n",
       "    }\n",
       "</style>\n",
       "<table border=\"1\" class=\"dataframe\">\n",
       "  <thead>\n",
       "    <tr style=\"text-align: right;\">\n",
       "      <th></th>\n",
       "      <th>kundennummer</th>\n",
       "      <th>autorid</th>\n",
       "      <th>amount</th>\n",
       "    </tr>\n",
       "  </thead>\n",
       "  <tbody>\n",
       "    <tr>\n",
       "      <th>0</th>\n",
       "      <td>7700160454</td>\n",
       "      <td>10990216</td>\n",
       "      <td>1</td>\n",
       "    </tr>\n",
       "    <tr>\n",
       "      <th>1</th>\n",
       "      <td>7700160454</td>\n",
       "      <td>11387441</td>\n",
       "      <td>1</td>\n",
       "    </tr>\n",
       "    <tr>\n",
       "      <th>2</th>\n",
       "      <td>7700160454</td>\n",
       "      <td>12058762</td>\n",
       "      <td>2</td>\n",
       "    </tr>\n",
       "    <tr>\n",
       "      <th>3</th>\n",
       "      <td>7700160454</td>\n",
       "      <td>137510</td>\n",
       "      <td>4</td>\n",
       "    </tr>\n",
       "    <tr>\n",
       "      <th>4</th>\n",
       "      <td>7700160454</td>\n",
       "      <td>4354809</td>\n",
       "      <td>1</td>\n",
       "    </tr>\n",
       "  </tbody>\n",
       "</table>\n",
       "</div>"
      ],
      "text/plain": [
       "  kundennummer   autorid  amount\n",
       "0   7700160454  10990216       1\n",
       "1   7700160454  11387441       1\n",
       "2   7700160454  12058762       2\n",
       "3   7700160454    137510       4\n",
       "4   7700160454   4354809       1"
      ]
     },
     "execution_count": 3,
     "metadata": {},
     "output_type": "execute_result"
    }
   ],
   "source": [
    "%time grouped = df.groupby(['kundennummer','autorid']).size().reset_index(name = 'amount')\n",
    "\n",
    "grouped.head()"
   ]
  },
  {
   "cell_type": "markdown",
   "metadata": {},
   "source": [
    "Create a new LightFM Dataset containing the customer and product interactions"
   ]
  },
  {
   "cell_type": "code",
   "execution_count": 4,
   "metadata": {
    "scrolled": true
   },
   "outputs": [
    {
     "name": "stdout",
     "output_type": "stream",
     "text": [
      "CPU times: user 2.38 s, sys: 107 ms, total: 2.48 s\n",
      "Wall time: 2.49 s\n",
      "CPU times: user 14min 10s, sys: 259 ms, total: 14min 10s\n",
      "Wall time: 14min 13s\n",
      "<1978962x198112 sparse matrix of type '<class 'numpy.int32'>'\n",
      "\twith 7251609 stored elements in COOrdinate format>\n",
      "Total number of unique customers         : 1978962\n",
      "Total number of unique products orders   : 198112\n"
     ]
    }
   ],
   "source": [
    "uniqueCustomer = grouped['kundennummer'].unique()\n",
    "uniqueProducts = grouped['autorid'].unique()\n",
    "\n",
    "dataset = Dataset()\n",
    "%time dataset.fit(uniqueCustomer,uniqueProducts)\n",
    "%time (interactions, weights) = dataset.build_interactions((row.kundennummer, row.autorid) for index, row in grouped.iterrows())\n",
    "\n",
    "print(repr(interactions))\n",
    "    \n",
    "print('Total number of unique customers         : %.0f' % len(uniqueCustomer))\n",
    "print('Total number of unique products orders   : %.0f' % len(uniqueProducts))\n"
   ]
  },
  {
   "cell_type": "markdown",
   "metadata": {},
   "source": [
    "Creating train and test split model"
   ]
  },
  {
   "cell_type": "code",
   "execution_count": 5,
   "metadata": {},
   "outputs": [],
   "source": [
    "(train,test) = random_train_test_split(interactions, test_percentage=0.2)"
   ]
  },
  {
   "cell_type": "markdown",
   "metadata": {},
   "source": [
    "Train the LightFM model"
   ]
  },
  {
   "cell_type": "code",
   "execution_count": 6,
   "metadata": {},
   "outputs": [
    {
     "name": "stdout",
     "output_type": "stream",
     "text": [
      "Training LightFM model\n",
      "CPU times: user 32min 31s, sys: 1.14 s, total: 32min 32s\n",
      "Wall time: 6min 39s\n"
     ]
    },
    {
     "data": {
      "text/plain": [
       "<lightfm.lightfm.LightFM at 0x7f44fef6e6d8>"
      ]
     },
     "execution_count": 6,
     "metadata": {},
     "output_type": "execute_result"
    }
   ],
   "source": [
    "print('Training LightFM model')\n",
    "model = LightFM(loss='warp', no_components=32)\n",
    "%time model.fit(train, epochs=60, num_threads=6)"
   ]
  },
  {
   "cell_type": "markdown",
   "metadata": {},
   "source": [
    "Sample predictions"
   ]
  },
  {
   "cell_type": "code",
   "execution_count": 8,
   "metadata": {},
   "outputs": [
    {
     "name": "stdout",
     "output_type": "stream",
     "text": [
      "Recommentations for user 7710910618\n",
      "10768003\t4.308501\n",
      "3383307\t4.085265\n",
      "494473\t4.067701\n",
      "91365\t3.933437\n",
      "14800838\t3.867929\n",
      "11466788\t3.825294\n",
      "13145224\t3.824771\n",
      "8691600\t3.804009\n",
      "65323\t3.729458\n",
      "174710\t3.664338\n"
     ]
    }
   ],
   "source": [
    "def sample_recommendation(model, data, user_ids):\n",
    "\n",
    "    user2idx, user_feature_map, item2idx, item_feature_map = dataset.mapping()\n",
    "    \n",
    "    item2idx_inv = dict(map(reversed, item2idx.items()))    \n",
    "\n",
    "    n_users, n_items = data.shape\n",
    "\n",
    "    for user_id in user_ids:\n",
    "        \n",
    "        print('Recommentations for user %s' % user_id)\n",
    "        \n",
    "        scores = model.predict(user2idx[user_id], numpy.arange(n_items))\n",
    "        \n",
    "        comp = []\n",
    "        \n",
    "        for i in range(n_items):\n",
    "            itemid = item2idx_inv[i]\n",
    "            score = scores[i]\n",
    "            comp.append((itemid,score))\n",
    "        \n",
    "        comp.sort(key = operator.itemgetter(1), reverse = True)    \n",
    "        \n",
    "        for i in range(10):\n",
    "            (itemid,score) = comp[i]\n",
    "            print('%s\\t%2f' % (itemid, score))\n",
    "    \n",
    "sample_recommendation(model, interactions, ['7710910618'])"
   ]
  },
  {
   "cell_type": "markdown",
   "metadata": {},
   "source": [
    "Evaluate the model"
   ]
  },
  {
   "cell_type": "code",
   "execution_count": null,
   "metadata": {},
   "outputs": [],
   "source": [
    "print('Evaluating model')\n",
    "\n",
    "aucscore = auc_score(model, interactions, num_threads=6).mean()\n",
    "print('AUC Score:          %.2f.' % (aucscore))\n",
    "\n",
    "aucscore_train = auc_score(model, train, num_threads=6).mean()\n",
    "print('AUC Score train:    %.2f.' % (aucscore_train))\n",
    "\n",
    "train_precision = precision_at_k(model, train, k=5, num_threads=6).mean()\n",
    "test_precision = precision_at_k(model, test, k=5, num_threads=6).mean()\n",
    "print('Precision@k5: train %.2f.' % (train_precision))\n",
    "print('Precision@k5: test  %.2f.' % (test_precision))"
   ]
  },
  {
   "cell_type": "code",
   "execution_count": null,
   "metadata": {},
   "outputs": [],
   "source": []
  }
 ],
 "metadata": {
  "kernelspec": {
   "display_name": "Python 3",
   "language": "python",
   "name": "python3"
  },
  "language_info": {
   "codemirror_mode": {
    "name": "ipython",
    "version": 3
   },
   "file_extension": ".py",
   "mimetype": "text/x-python",
   "name": "python",
   "nbconvert_exporter": "python",
   "pygments_lexer": "ipython3",
   "version": "3.7.3"
  }
 },
 "nbformat": 4,
 "nbformat_minor": 2
}
